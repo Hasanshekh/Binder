{
 "cells": [
  {
   "cell_type": "code",
   "execution_count": null,
   "metadata": {},
   "outputs": [],
   "source": [
    "# n = 7\n",
    "# 1+2+3+4+5+6+7 = 28"
   ]
  },
  {
   "cell_type": "code",
   "execution_count": 13,
   "metadata": {},
   "outputs": [
    {
     "name": "stdout",
     "output_type": "stream",
     "text": [
      "sum1 executed output 276\n"
     ]
    }
   ],
   "source": [
    "def sum1(n):\n",
    "    return (n)*(n+1)// 2  \n",
    "sum1(2)     # o(1)\n",
    "print(\"sum1 executed output {}\".format(sum1(n)))"
   ]
  },
  {
   "cell_type": "code",
   "execution_count": 11,
   "metadata": {},
   "outputs": [
    {
     "name": "stdout",
     "output_type": "stream",
     "text": [
      "sum2 executed output 276\n"
     ]
    }
   ],
   "source": [
    "def sum2(n):\n",
    "    sm = 0\n",
    "    for i in range(1, n+1):  #[1,n]\n",
    "        sm+=i\n",
    "    return sm\n",
    "sum2(234567)     # o(n)\n",
    "print(\"sum2 executed output {}\".format(sum2(n)))"
   ]
  },
  {
   "cell_type": "code",
   "execution_count": null,
   "metadata": {},
   "outputs": [],
   "source": []
  }
 ],
 "metadata": {
  "kernelspec": {
   "display_name": "Python 3",
   "language": "python",
   "name": "python3"
  },
  "language_info": {
   "codemirror_mode": {
    "name": "ipython",
    "version": 3
   },
   "file_extension": ".py",
   "mimetype": "text/x-python",
   "name": "python",
   "nbconvert_exporter": "python",
   "pygments_lexer": "ipython3",
   "version": "3.7.6"
  }
 },
 "nbformat": 4,
 "nbformat_minor": 4
}

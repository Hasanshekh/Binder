{
 "cells": [
  {
   "cell_type": "code",
   "execution_count": 1,
   "id": "c0957234-ba57-4199-adfa-9d17ede0b8f9",
   "metadata": {},
   "outputs": [
    {
     "data": {
      "application/vnd.jupyter.widget-view+json": {
       "model_id": "9a3588ef1af54ca0ac33ba54a9b8dba6",
       "version_major": 2,
       "version_minor": 0
      },
      "text/plain": [
       "MitoWidget(analysis_data_json='{\"analysisName\": \"id-ffvayevyva\", \"analysisToReplay\": {\"analysisName\": \"id-gfdg…"
      ]
     },
     "metadata": {},
     "output_type": "display_data"
    }
   ],
   "source": [
    "# Run this cell to render a mitosheet\n",
    "# See mito's documentation here: https://docs.trymito.io/how-to/creating-a-mitosheet\n",
    "# Join our Discord for support here: https://discord.gg/XdJSZyejJU\n",
    "\n",
    "import mitosheet\n",
    "mitosheet.sheet(analysis_to_replay=\"id-gfdgbkyrpc\")"
   ]
  },
  {
   "cell_type": "code",
   "execution_count": 2,
   "id": "c0019211",
   "metadata": {},
   "outputs": [],
   "source": [
    "from mitosheet import *; register_analysis(\"id-gfdgbkyrpc\");\n",
    "    \n",
    "# Imported BigMartSalesTrain.csv\n",
    "import pandas as pd\n",
    "BigMartSalesTrain = pd.read_csv(r'C:\\Users\\Hasan\\Data Science\\BigMartSalesTrain.csv')\n",
    "\n",
    "# Sorted Item_Type in descending order\n",
    "BigMartSalesTrain = BigMartSalesTrain.sort_values(by='Item_Type', ascending=False, na_position='last')\n"
   ]
  },
  {
   "cell_type": "code",
   "execution_count": null,
   "id": "655690b9",
   "metadata": {},
   "outputs": [],
   "source": [
    "python -m pip install mitosheet"
   ]
  },
  {
   "cell_type": "code",
   "execution_count": null,
   "id": "c21381b9",
   "metadata": {},
   "outputs": [],
   "source": [
    "pip install mitosheet"
   ]
  },
  {
   "cell_type": "code",
   "execution_count": null,
   "id": "85eb4814",
   "metadata": {},
   "outputs": [],
   "source": [
    "import mitosheet"
   ]
  },
  {
   "cell_type": "code",
   "execution_count": null,
   "id": "61f7b88a",
   "metadata": {},
   "outputs": [],
   "source": [
    "python -m jupyter nbextension install --py --user mitosheet\n",
    "python -m jupyter nbextension enable --py --user mitosheet"
   ]
  }
 ],
 "metadata": {
  "kernelspec": {
   "display_name": "Python 3 (ipykernel)",
   "language": "python",
   "name": "python3"
  },
  "language_info": {
   "codemirror_mode": {
    "name": "ipython",
    "version": 3
   },
   "file_extension": ".py",
   "mimetype": "text/x-python",
   "name": "python",
   "nbconvert_exporter": "python",
   "pygments_lexer": "ipython3",
   "version": "3.8.13"
  },
  "widgets": {
   "application/vnd.jupyter.widget-state+json": {
    "state": {},
    "version_major": 2,
    "version_minor": 0
   }
  }
 },
 "nbformat": 4,
 "nbformat_minor": 5
}
